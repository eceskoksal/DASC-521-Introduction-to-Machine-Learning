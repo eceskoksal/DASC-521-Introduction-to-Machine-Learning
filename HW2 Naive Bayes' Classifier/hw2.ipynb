{
 "cells": [
  {
   "cell_type": "code",
   "execution_count": 1,
   "id": "3dd1d5d9",
   "metadata": {},
   "outputs": [],
   "source": [
    "import numpy as np \n",
    "import pandas as pd "
   ]
  },
  {
   "cell_type": "code",
   "execution_count": 2,
   "id": "0f6fcb4b",
   "metadata": {},
   "outputs": [],
   "source": [
    "#2\n",
    "x=np.genfromtxt(\"hw02_data_set_images.csv\", delimiter = \",\")\n",
    "y=np.genfromtxt(\"hw02_data_set_labels.csv\", delimiter = \",\")\n",
    "\n",
    "N=x.shape[0] \n",
    "K=np.max(y).astype(int)\n",
    "\n",
    "\n",
    "training_set_dim=25*K\n",
    "test_set_dim=N-training_set_dim\n",
    "\n"
   ]
  },
  {
   "cell_type": "code",
   "execution_count": 3,
   "id": "f627237a",
   "metadata": {},
   "outputs": [],
   "source": [
    "#3\n",
    "x_train=np.zeros((training_set_dim,x.shape[1]))\n",
    "x_test=np.zeros((test_set_dim,x.shape[1]))\n",
    "y_train=np.zeros((training_set_dim))\n",
    "y_test=np.zeros((test_set_dim))\n",
    "\n",
    "count1=0\n",
    "count2=0\n",
    "for i in range(x.shape[0]):\n",
    "    if i%39 <25:  \n",
    "        x_train[count1,:]=x[i,:]\n",
    "        y_train[count1]=y[i]\n",
    "        count1=count1+1\n",
    "    else:\n",
    "        x_test[count2,:]=x[i,:]\n",
    "        y_test[count2]=y[i]\n",
    "        count2=count2+1\n",
    "        "
   ]
  },
  {
   "cell_type": "code",
   "execution_count": 4,
   "id": "9ce94979",
   "metadata": {},
   "outputs": [
    {
     "name": "stdout",
     "output_type": "stream",
     "text": [
      "[[0.   0.   0.   ... 0.68 0.68 0.64]\n",
      " [0.04 0.24 0.24 ... 0.8  0.56 0.24]\n",
      " [0.   0.   0.   ... 0.6  0.88 0.8 ]\n",
      " [0.12 0.44 0.4  ... 0.28 0.16 0.08]\n",
      " [0.   0.12 0.12 ... 0.32 0.48 0.44]]\n",
      "[0.2 0.2 0.2 0.2 0.2]\n"
     ]
    }
   ],
   "source": [
    "#4 \n",
    "\n",
    "pcd= np.array([np.sum(x_train[y_train == (c+1)],axis=0)/np.sum(y_train==(c+1),axis=0) for c in range(K)])\n",
    "print(pcd)\n",
    "\n",
    "class_priors = np.array([np.mean(y_train == (c + 1))for c in range(K)])\n",
    "print(class_priors)\n",
    "\n",
    "    \n"
   ]
  },
  {
   "cell_type": "code",
   "execution_count": 5,
   "id": "6ac1cdfd",
   "metadata": {},
   "outputs": [
    {
     "name": "stdout",
     "output_type": "stream",
     "text": [
      "y_truth   1   2   3   4   5\n",
      "y_pred                     \n",
      "1        25   0   0   0   0\n",
      "2         0  24   1   0   1\n",
      "3         0   0  24   0   0\n",
      "4         0   1   0  25   0\n",
      "5         0   0   0   0  24\n"
     ]
    }
   ],
   "source": [
    "#5 \n",
    "def safelog(x):\n",
    "    return(np.log(x + 1e-100))\n",
    "\n",
    "def g(x): \n",
    "    g=np.zeros(K)\n",
    "    for c in range(K):\n",
    "        g[c]=np.sum(x*safelog(pcd[c]) + (1-x)*safelog(1-pcd[c])) + safelog(class_priors[c])   \n",
    "    return g \n",
    "\n",
    " \n",
    "y_truth_train=y_train.astype(int)\n",
    "y_pred_train=np.zeros(x_train.shape[0]).astype(int)\n",
    "\n",
    "for i in range(x_train.shape[0]): \n",
    "    y_pred_train[i]=np.argmax([g(x_train[i])]) +1\n",
    "\n",
    "\n",
    "confusion_matrix_train = pd.crosstab(y_pred_train, y_truth_train, \n",
    "                               rownames = [\"y_pred\"], \n",
    "                               colnames = [\"y_truth\"])\n",
    "\n",
    "print(confusion_matrix_train)"
   ]
  },
  {
   "cell_type": "code",
   "execution_count": 6,
   "id": "0f8246c7",
   "metadata": {},
   "outputs": [
    {
     "name": "stdout",
     "output_type": "stream",
     "text": [
      "y_truth  1   2  3   4   5\n",
      "y_pred                   \n",
      "1        7   0  0   0   0\n",
      "2        0  11  3   2   4\n",
      "3        0   0  7   0   0\n",
      "4        7   3  3  12   0\n",
      "5        0   0  1   0  10\n"
     ]
    }
   ],
   "source": [
    "#6\n",
    "\n",
    "y_truth_test=y_test.astype(int)\n",
    "y_pred_test=np.zeros(x_test.shape[0]).astype(int)\n",
    "\n",
    "for i in range(x_test.shape[0]): \n",
    "    y_pred_test[i]=np.argmax([g(x_test[i])]) +1\n",
    "    \n",
    "\n",
    "confusion_matrix_test = pd.crosstab(y_pred_test, y_truth_test, \n",
    "                               rownames = [\"y_pred\"], \n",
    "                               colnames = [\"y_truth\"])\n",
    "\n",
    "print(confusion_matrix_test)"
   ]
  },
  {
   "cell_type": "code",
   "execution_count": null,
   "id": "d3cde839",
   "metadata": {},
   "outputs": [],
   "source": []
  },
  {
   "cell_type": "code",
   "execution_count": null,
   "id": "bb02c901",
   "metadata": {},
   "outputs": [],
   "source": []
  }
 ],
 "metadata": {
  "kernelspec": {
   "display_name": "Python 3 (ipykernel)",
   "language": "python",
   "name": "python3"
  },
  "language_info": {
   "codemirror_mode": {
    "name": "ipython",
    "version": 3
   },
   "file_extension": ".py",
   "mimetype": "text/x-python",
   "name": "python",
   "nbconvert_exporter": "python",
   "pygments_lexer": "ipython3",
   "version": "3.8.8"
  }
 },
 "nbformat": 4,
 "nbformat_minor": 5
}
